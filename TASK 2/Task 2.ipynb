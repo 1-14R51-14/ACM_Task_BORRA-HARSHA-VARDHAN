{
 "cells": [
  {
   "cell_type": "code",
   "execution_count": null,
   "metadata": {},
   "outputs": [],
   "source": [
    "#Let us Build a KNN classification model from scratch and compare it with standerd knn algorthm built from libraries"
   ]
  },
  {
   "cell_type": "code",
   "execution_count": 40,
   "metadata": {},
   "outputs": [],
   "source": [
    "#import necessary libraries \n",
    "\n",
    "import numpy as np\n",
    "from collections import Counter\n",
    "from sklearn import datasets\n",
    "from sklearn.model_selection import train_test_split"
   ]
  },
  {
   "cell_type": "code",
   "execution_count": 41,
   "metadata": {},
   "outputs": [],
   "source": [
    "# Defining a function \"euclidean_distance\" for calculating distance between two points\n",
    "\n",
    "def euclidean_distance(x1, x2):\n",
    "    distance = np.sqrt(np.sum((x1-x2)**2))\n",
    "    return distance\n",
    "\n",
    "#Defining \"KNN\" function which actually finds the distance between the point with its K nearest neighbours and selects the neighbour with majority votes\n",
    " \n",
    "class KNN:\n",
    "    def __init__(self, k=3):\n",
    "        self.k = k\n",
    "\n",
    "    def fit(self, X, y):\n",
    "        self.X_train = X\n",
    "        self.y_train = y\n",
    "\n",
    "    def predict(self, X):\n",
    "        predictions = [self._predict(x) for x in X]\n",
    "        return predictions\n",
    "\n",
    "    def _predict(self, x):\n",
    "        # compute the distance\n",
    "        distances = [euclidean_distance(x, x_train) for x_train in self.X_train]\n",
    "    \n",
    "        # get the closest k\n",
    "        k_indices = np.argsort(distances)[:self.k]\n",
    "        k_nearest_labels = [self.y_train[i] for i in k_indices]\n",
    "\n",
    "        # majority voye\n",
    "        most_common = Counter(k_nearest_labels).most_common()\n",
    "        return most_common[0][0]\n",
    "    "
   ]
  },
  {
   "cell_type": "code",
   "execution_count": 42,
   "metadata": {},
   "outputs": [
    {
     "name": "stdout",
     "output_type": "stream",
     "text": [
      "[2, 0, 1, 2, 0, 2, 2, 0, 0, 1, 2, 1, 0, 1, 0, 0, 0, 2, 2, 1, 0, 1, 0, 0, 0, 2, 0, 2, 1, 2]\n"
     ]
    }
   ],
   "source": [
    "#Taking iris dataset for for knn algorithm\n",
    "\n",
    "iris = datasets.load_iris()\n",
    "X, y = iris.data, iris.target\n",
    "\n",
    "#Splitting data\n",
    "X_train, X_test, y_train, y_test = train_test_split(X, y, test_size=0.2, random_state=301)\n",
    "\n",
    "#Lets take K = 5 for suppose\n",
    "clf = KNN(k=5)\n",
    "clf.fit(X_train, y_train)\n",
    "predictions = clf.predict(X_test)\n",
    "print(predictions)"
   ]
  },
  {
   "cell_type": "code",
   "execution_count": 43,
   "metadata": {},
   "outputs": [
    {
     "name": "stdout",
     "output_type": "stream",
     "text": [
      "0.9666666666666667\n"
     ]
    }
   ],
   "source": [
    "#Checking accuracy\n",
    "acc = np.sum(predictions == y_test) / len(y_test)\n",
    "print(acc)"
   ]
  },
  {
   "cell_type": "code",
   "execution_count": 44,
   "metadata": {},
   "outputs": [],
   "source": [
    "#We got 96.67% accuracy through this algorithm we built from scratch\n",
    "#Lets compare the accuracy with the algorithm made with standard libraries"
   ]
  },
  {
   "cell_type": "code",
   "execution_count": 45,
   "metadata": {},
   "outputs": [],
   "source": [
    "from sklearn.neighbors import KNeighborsClassifier "
   ]
  },
  {
   "cell_type": "code",
   "execution_count": 50,
   "metadata": {},
   "outputs": [
    {
     "name": "stdout",
     "output_type": "stream",
     "text": [
      "[1 0 2 1 1 0 1 2 2 1 2 0 0 0 0 1 2 1 1 2 0 2 0 2 2 2 2 2 0 0]\n"
     ]
    }
   ],
   "source": [
    "# Loading data \n",
    "irisData = datasets.load_iris() \n",
    "  \n",
    "# Create feature and target arrays \n",
    "X = irisData.data \n",
    "y = irisData.target \n",
    "  \n",
    "# Split into training and test set \n",
    "X_train, X_test, y_train, y_test = train_test_split( \n",
    "             X, y, test_size = 0.2, random_state=42) \n",
    "  \n",
    "knn = KNeighborsClassifier(n_neighbors=7) \n",
    "  \n",
    "knn.fit(X_train, y_train) \n",
    "predictions=knn.predict(X_test)\n",
    "print(knn.predict(X_test)) \n"
   ]
  },
  {
   "cell_type": "code",
   "execution_count": 52,
   "metadata": {},
   "outputs": [
    {
     "name": "stdout",
     "output_type": "stream",
     "text": [
      "0.9666666666666667\n",
      "              precision    recall  f1-score   support\n",
      "\n",
      "           0       1.00      1.00      1.00        10\n",
      "           1       0.89      1.00      0.94         8\n",
      "           2       1.00      0.92      0.96        12\n",
      "\n",
      "    accuracy                           0.97        30\n",
      "   macro avg       0.96      0.97      0.97        30\n",
      "weighted avg       0.97      0.97      0.97        30\n",
      "\n",
      "[[10  0  0]\n",
      " [ 0  8  0]\n",
      " [ 0  1 11]]\n"
     ]
    }
   ],
   "source": [
    "#Checking accuracy\n",
    "print(knn.score(X_test, y_test)) \n",
    "\n",
    "from sklearn.metrics import classification_report,confusion_matrix\n",
    "print(classification_report(predictions,y_test))\n",
    "print(confusion_matrix(predictions,y_test))"
   ]
  },
  {
   "cell_type": "code",
   "execution_count": null,
   "metadata": {},
   "outputs": [],
   "source": [
    "# Comparision : Scratch-built KNN vs Library-based KNN:\n",
    "\n",
    "# 1. Accuracy:\n",
    "#  Both models have similar accuracy (~96.67%), but the library may be a bit better due to optimizations.\n",
    "\n",
    "# 2. Training Time:\n",
    "#  Scratch-built is slower, while the library model is faster thanks to optimizations like KD-trees.\n",
    "\n",
    "# 3. Code Complexity:\n",
    "#  Scratch version is more complex, as it requires manual implementation.\n",
    "#  Library version is much simpler and easier to write.\n",
    "\n",
    "# 4. Scalability:\n",
    "#  Scratch-built struggles with large datasets, while the library model scales much better.\n"
   ]
  }
 ],
 "metadata": {
  "kernelspec": {
   "display_name": "base",
   "language": "python",
   "name": "python3"
  },
  "language_info": {
   "codemirror_mode": {
    "name": "ipython",
    "version": 3
   },
   "file_extension": ".py",
   "mimetype": "text/x-python",
   "name": "python",
   "nbconvert_exporter": "python",
   "pygments_lexer": "ipython3",
   "version": "3.12.3"
  }
 },
 "nbformat": 4,
 "nbformat_minor": 2
}
